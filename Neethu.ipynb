{
  "nbformat": 4,
  "nbformat_minor": 0,
  "metadata": {
    "colab": {
      "provenance": [],
      "authorship_tag": "ABX9TyN2xcySzV9ELSsW050KlEf/",
      "include_colab_link": true
    },
    "kernelspec": {
      "name": "python3",
      "display_name": "Python 3"
    },
    "language_info": {
      "name": "python"
    }
  },
  "cells": [
    {
      "cell_type": "markdown",
      "metadata": {
        "id": "view-in-github",
        "colab_type": "text"
      },
      "source": [
        "<a href=\"https://colab.research.google.com/github/neethuponnappan/Python/blob/main/Neethu.ipynb\" target=\"_parent\"><img src=\"https://colab.research.google.com/assets/colab-badge.svg\" alt=\"Open In Colab\"/></a>"
      ]
    },
    {
      "cell_type": "markdown",
      "source": [
        "Multiplication Table"
      ],
      "metadata": {
        "id": "iaEKzvdP0muP"
      }
    },
    {
      "cell_type": "code",
      "source": [
        "a= int(input(\"Enter the number \"))\n",
        "print(f\"Multiplication table of {a} is listed below\")\n",
        "\n",
        "for i in range (1,11,1):\n",
        "  print(f\"The table is : {a}*{i}={a*i}\")"
      ],
      "metadata": {
        "colab": {
          "base_uri": "https://localhost:8080/"
        },
        "id": "37qRKhbDgWus",
        "outputId": "c2d06ce2-02e2-4c7a-803b-0786c9f50c3c"
      },
      "execution_count": 17,
      "outputs": [
        {
          "output_type": "stream",
          "name": "stdout",
          "text": [
            "Enter the number 450\n",
            "Multiplication table of 450 is listed below\n",
            "The table is : 450*1=450\n",
            "The table is : 450*2=900\n",
            "The table is : 450*3=1350\n",
            "The table is : 450*4=1800\n",
            "The table is : 450*5=2250\n",
            "The table is : 450*6=2700\n",
            "The table is : 450*7=3150\n",
            "The table is : 450*8=3600\n",
            "The table is : 450*9=4050\n"
          ]
        }
      ]
    },
    {
      "cell_type": "markdown",
      "source": [],
      "metadata": {
        "id": "e6RBMAj-0lOZ"
      }
    },
    {
      "cell_type": "code",
      "source": [],
      "metadata": {
        "id": "oCe8hzDNvO_r"
      },
      "execution_count": null,
      "outputs": []
    }
  ]
}
