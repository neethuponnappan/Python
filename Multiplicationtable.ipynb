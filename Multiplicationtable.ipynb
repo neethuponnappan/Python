{
  "nbformat": 4,
  "nbformat_minor": 0,
  "metadata": {
    "colab": {
      "provenance": [],
      "authorship_tag": "ABX9TyOjbzflUuwTpx6WQWXsv/q6",
      "include_colab_link": true
    },
    "kernelspec": {
      "name": "python3",
      "display_name": "Python 3"
    },
    "language_info": {
      "name": "python"
    }
  },
  "cells": [
    {
      "cell_type": "markdown",
      "metadata": {
        "id": "view-in-github",
        "colab_type": "text"
      },
      "source": [
        "<a href=\"https://colab.research.google.com/github/neethuponnappan/Python/blob/main/Multiplicationtable.ipynb\" target=\"_parent\"><img src=\"https://colab.research.google.com/assets/colab-badge.svg\" alt=\"Open In Colab\"/></a>"
      ]
    },
    {
      "cell_type": "markdown",
      "source": [
        "Multiplication Table"
      ],
      "metadata": {
        "id": "iaEKzvdP0muP"
      }
    },
    {
      "cell_type": "code",
      "source": [
        "a= int(input(\"Enter the number \"))\n",
        "print(f\"Multiplication table of {a} is listed below\")\n",
        "\n",
        "for i in range (1,11,1):\n",
        "  print(f\"The table is : {a}*{i}={a*i}\")"
      ],
      "metadata": {
        "colab": {
          "base_uri": "https://localhost:8080/"
        },
        "id": "37qRKhbDgWus",
        "outputId": "0913c1f9-acea-43c5-bcc6-1a5554bde6dd"
      },
      "execution_count": 18,
      "outputs": [
        {
          "output_type": "stream",
          "name": "stdout",
          "text": [
            "Enter the number 15\n",
            "Multiplication table of 15 is listed below\n",
            "The table is : 15*1=15\n",
            "The table is : 15*2=30\n",
            "The table is : 15*3=45\n",
            "The table is : 15*4=60\n",
            "The table is : 15*5=75\n",
            "The table is : 15*6=90\n",
            "The table is : 15*7=105\n",
            "The table is : 15*8=120\n",
            "The table is : 15*9=135\n",
            "The table is : 15*10=150\n"
          ]
        }
      ]
    },
    {
      "cell_type": "markdown",
      "source": [],
      "metadata": {
        "id": "e6RBMAj-0lOZ"
      }
    },
    {
      "cell_type": "code",
      "source": [],
      "metadata": {
        "id": "oCe8hzDNvO_r"
      },
      "execution_count": null,
      "outputs": []
    }
  ]
}