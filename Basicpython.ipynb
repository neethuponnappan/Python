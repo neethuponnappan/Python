{
 "cells": [
  {
   "cell_type": "code",
   "execution_count": 1,
   "id": "944438f9-9faf-443d-af54-3b6eecd86c4c",
   "metadata": {},
   "outputs": [
    {
     "data": {
      "text/plain": [
       "8"
      ]
     },
     "execution_count": 1,
     "metadata": {},
     "output_type": "execute_result"
    }
   ],
   "source": [
    "a=4\n",
    "b=a+1\n",
    "c=(b-1)*2\n",
    "c"
   ]
  },
  {
   "cell_type": "code",
   "execution_count": 2,
   "id": "baaf7c1d-40ea-4bbb-bdcd-0775400761a2",
   "metadata": {},
   "outputs": [
    {
     "name": "stdout",
     "output_type": "stream",
     "text": [
      "3 4 7\n"
     ]
    }
   ],
   "source": [
    "a=3\n",
    "b=a+1\n",
    "c=a+b\n",
    "print(a,b,c)"
   ]
  },
  {
   "cell_type": "code",
   "execution_count": 3,
   "id": "aec879a9-cf41-469f-985c-4b903a1ca37b",
   "metadata": {},
   "outputs": [
    {
     "name": "stdin",
     "output_type": "stream",
     "text": [
      "What is your favourite colour? black\n"
     ]
    },
    {
     "name": "stdout",
     "output_type": "stream",
     "text": [
      "Your favourite colour is black\n"
     ]
    }
   ],
   "source": [
    "color= input(\"What is your favourite colour?\")\n",
    "print(\"Your favourite colour is\", color)\n"
   ]
  },
  {
   "cell_type": "code",
   "execution_count": 20,
   "id": "2ffcfa3e-2d66-42c6-8144-5d495595fe1f",
   "metadata": {},
   "outputs": [
    {
     "name": "stdin",
     "output_type": "stream",
     "text": [
      "enter a number : 58\n"
     ]
    },
    {
     "name": "stdout",
     "output_type": "stream",
     "text": [
      "The number you enterd 58 is an even number\n"
     ]
    }
   ],
   "source": [
    "n = int(input(\"enter a number :\"))\n",
    "if n % 2 == 0:\n",
    "    print (\"The number you enterd\" ,n ,\"is an even number\")\n",
    "else:\n",
    "    print (\"The number you enterd\" , n , \"is an odd number\")"
   ]
  },
  {
   "cell_type": "code",
   "execution_count": 2,
   "id": "b5d57c6b-2731-427d-959b-5557ce324ce1",
   "metadata": {},
   "outputs": [
    {
     "name": "stdin",
     "output_type": "stream",
     "text": [
      "enter a number -78\n"
     ]
    },
    {
     "name": "stdout",
     "output_type": "stream",
     "text": [
      "-78 is a negative number\n"
     ]
    }
   ],
   "source": [
    "a= int(input(\"enter a number\"))\n",
    "if a > 0:\n",
    "    print(a, \"is a positive number\")\n",
    "elif a == 0:\n",
    "    print( \"you entered \", a)\n",
    "else:\n",
    "    print(a, \"is a negative number\")\n"
   ]
  },
  {
   "cell_type": "code",
   "execution_count": 78,
   "id": "8376fa0b-7d12-412c-b7d5-bf7c68b5093b",
   "metadata": {
    "jupyter": {
     "source_hidden": true
    }
   },
   "outputs": [
    {
     "name": "stdin",
     "output_type": "stream",
     "text": [
      "enter a number 12\n"
     ]
    },
    {
     "name": "stdout",
     "output_type": "stream",
     "text": [
      "12 is a float\n"
     ]
    }
   ],
   "source": [
    "x=int(input(\"enter a number\"))\n",
    "if x == int:\n",
    "    print(x, \"is an integer\")\n",
    "else:\n",
    "     print(x, \"is a float\")\n",
    "   "
   ]
  },
  {
   "cell_type": "markdown",
   "id": "b94688ed-67d8-4fb3-8f00-e1b9521045cd",
   "metadata": {},
   "source": []
  },
  {
   "cell_type": "code",
   "execution_count": 3,
   "id": "91055ac4-166d-4d93-acf9-decca14ed4f9",
   "metadata": {},
   "outputs": [
    {
     "name": "stdin",
     "output_type": "stream",
     "text": [
      "enter a number 34\n"
     ]
    },
    {
     "name": "stdout",
     "output_type": "stream",
     "text": [
      "34 is Neither an integer nor a float\n"
     ]
    }
   ],
   "source": [
    "x= input(\"enter a number\")\n",
    "if type(x)== int:\n",
    "  print(x, \"is a an integer\")\n",
    "elif type(x) == float:  \n",
    "  print(x, \"is a float\")\n",
    "else:\n",
    "  print(x, \"is Neither an integer nor a float\")"
   ]
  },
  {
   "cell_type": "code",
   "execution_count": 15,
   "id": "79b33244-881f-4e1b-8d12-6d3b80173be9",
   "metadata": {},
   "outputs": [
    {
     "name": "stdout",
     "output_type": "stream",
     "text": [
      "enter a number:\n"
     ]
    },
    {
     "name": "stdin",
     "output_type": "stream",
     "text": [
      "enter the number : 87\n"
     ]
    },
    {
     "name": "stdout",
     "output_type": "stream",
     "text": [
      "You entered  87\n",
      "the next number is : 88\n"
     ]
    },
    {
     "name": "stdin",
     "output_type": "stream",
     "text": [
      "enter the number : 54\n"
     ]
    },
    {
     "name": "stdout",
     "output_type": "stream",
     "text": [
      "You entered  54\n",
      "the next number is : 55\n"
     ]
    },
    {
     "name": "stdin",
     "output_type": "stream",
     "text": [
      "enter the number : 65\n"
     ]
    },
    {
     "name": "stdout",
     "output_type": "stream",
     "text": [
      "You entered  65\n",
      "the next number is : 66\n"
     ]
    },
    {
     "name": "stdin",
     "output_type": "stream",
     "text": [
      "enter the number : 56565\n"
     ]
    },
    {
     "name": "stdout",
     "output_type": "stream",
     "text": [
      "You entered  56565\n",
      "the next number is : 56566\n"
     ]
    },
    {
     "name": "stdin",
     "output_type": "stream",
     "text": [
      "enter the number : 99\n"
     ]
    },
    {
     "name": "stdout",
     "output_type": "stream",
     "text": [
      "You entered  99\n",
      "the next number is : 100\n"
     ]
    }
   ],
   "source": [
    "print(\"enter a number:\")\n",
    "\n",
    "for i in range(1,25,5):\n",
    "    a = int(input(\"enter the number :\"))\n",
    "    print(\"You entered \",a)\n",
    "    print(\"the next number is :\", a+1)\n"
   ]
  },
  {
   "cell_type": "markdown",
   "id": "5340dfe5-2bce-4e30-aedd-feb143b776bf",
   "metadata": {},
   "source": [
    "##### import random\n",
    "secretnum= random.randint(1,50)\n",
    "for i in range(3):\n",
    " guess= int(input(\"Enter a number between 1 and 50 :\"))\n",
    "if guess== secretnum:\n",
    "            print(\"Wow, you Guessed Correct...!!!\")\n",
    "elif guess>50 or guess<0 or guess== None:\n",
    "            print(\"Enter a number in between 1 and 50\")\n",
    "else:\n",
    "            print(\"Try Again...\")\n",
    "    \n",
    "           "
   ]
  },
  {
   "cell_type": "markdown",
   "id": "6e31a495-ef7d-45f2-ac2e-89c00e43518d",
   "metadata": {},
   "source": [
    "\n",
    " import random\n",
    "secretnum= random.randint(1,50)\n",
    "for i in range(3):\n",
    " guess= int(input(\"Enter a number between 1 and 50 :\"))\n",
    "if guess== secretnum:\n",
    "            print(\"Wow, you Guessed Correct...!!!\")\n",
    "elif guess>50 or guess<0 or guess== None:\n",
    "            print(\"Enter a number in between 1 and 50\")\n",
    "else:\n",
    "            print(\"Try Again...\")\n",
    "    \n",
    "           "
   ]
  },
  {
   "cell_type": "code",
   "execution_count": 1,
   "id": "c0a099ff-76d6-4cff-97bc-e72c09c58383",
   "metadata": {},
   "outputs": [
    {
     "name": "stdin",
     "output_type": "stream",
     "text": [
      "Enter a number between 1 and 50 : 87\n"
     ]
    },
    {
     "name": "stdout",
     "output_type": "stream",
     "text": [
      "In between 1 and 50\n",
      "Try Again...\n"
     ]
    },
    {
     "name": "stdin",
     "output_type": "stream",
     "text": [
      "Enter a number between 1 and 50 : 42\n"
     ]
    },
    {
     "name": "stdout",
     "output_type": "stream",
     "text": [
      "Try Again...\n"
     ]
    },
    {
     "name": "stdin",
     "output_type": "stream",
     "text": [
      "Enter a number between 1 and 50 : 49\n"
     ]
    },
    {
     "name": "stdout",
     "output_type": "stream",
     "text": [
      "Wow, you Guessed Correct...!!!\n",
      "Better Luck next Time, You Tried Thrice\n",
      "The Secret Number was 49\n"
     ]
    }
   ],
   "source": [
    "import random\n",
    "secretnum= random.randint(1,50)\n",
    "for i in range(3):\n",
    " guess= int(input(\"Enter a number between 1 and 50 :\"))\n",
    " if guess>50 or guess<0 :\n",
    "            print(\"In between 1 and 50\")\n",
    " if guess== secretnum:\n",
    "           print(\"Wow, you Guessed Correct...!!!\")\n",
    " else:\n",
    "         print(\"Try Again...\")\n",
    "else:\n",
    " print(\"Better Luck next Time, You Tried Thrice\")\n",
    " print(f\"The Secret Number was {secretnum}\")"
   ]
  },
  {
   "cell_type": "code",
   "execution_count": null,
   "id": "0a1f4637-3612-43fa-9264-51d86ae49a01",
   "metadata": {},
   "outputs": [
    {
     "name": "stdout",
     "output_type": "stream",
     "text": [
      "Age\n",
      "*--*\n"
     ]
    }
   ],
   "source": [
    "print(\"Age\")\n",
    "print(\"*--*\")\n",
    "age = int(input(\"Enter your Age :\"))\n",
    "if age <= 12:\n",
    "        print(\"You are a Kid..!!!\")\n",
    "elif age>=13 and age<=19:\n",
    "        print(\"You are a Teenager\")\n",
    "elif age>=20 and age<=59:\n",
    "        print(\"You are an Adult\")\n",
    "elif age >=60 and age<=105:\n",
    "        print(\"You are a senior citizen\")\n",
    "elif age == 0:\n",
    "        print(\"INVALID..!!!\")\n",
    "elif age >105:\n",
    "        print(\" Are you a Human?\")\n",
    "else:\n",
    "        print(\"Enter a valid value\")"
   ]
  },
  {
   "cell_type": "code",
   "execution_count": null,
   "id": "c391db93-f6b0-45fa-81cf-206d895e85bd",
   "metadata": {},
   "outputs": [],
   "source": []
  }
 ],
 "metadata": {
  "kernelspec": {
   "display_name": "anaconda-ai-2024.04-py310",
   "language": "python",
   "name": "conda-env-anaconda-ai-2024.04-py310-py"
  },
  "language_info": {
   "codemirror_mode": {
    "name": "ipython",
    "version": 3
   },
   "file_extension": ".py",
   "mimetype": "text/x-python",
   "name": "python",
   "nbconvert_exporter": "python",
   "pygments_lexer": "ipython3",
   "version": "3.10.13"
  }
 },
 "nbformat": 4,
 "nbformat_minor": 5
}
